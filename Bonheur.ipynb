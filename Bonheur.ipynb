{
 "cells": [
  {
   "cell_type": "code",
   "execution_count": 73,
   "metadata": {
    "vscode": {
     "languageId": "shellscript"
    }
   },
   "outputs": [],
   "source": [
    "import pandas as pd\n",
    "df = pd.read_csv(\"table1.csv\")"
   ]
  },
  {
   "cell_type": "code",
   "execution_count": null,
   "metadata": {
    "vscode": {
     "languageId": "shellscript"
    }
   },
   "outputs": [],
   "source": []
  },
  {
   "cell_type": "code",
   "execution_count": 74,
   "metadata": {
    "vscode": {
     "languageId": "shellscript"
    }
   },
   "outputs": [
    {
     "data": {
      "text/html": [
       "<div>\n",
       "<style scoped>\n",
       "    .dataframe tbody tr th:only-of-type {\n",
       "        vertical-align: middle;\n",
       "    }\n",
       "\n",
       "    .dataframe tbody tr th {\n",
       "        vertical-align: top;\n",
       "    }\n",
       "\n",
       "    .dataframe thead th {\n",
       "        text-align: right;\n",
       "    }\n",
       "</style>\n",
       "<table border=\"1\" class=\"dataframe\">\n",
       "  <thead>\n",
       "    <tr style=\"text-align: right;\">\n",
       "      <th></th>\n",
       "      <th>Country name</th>\n",
       "      <th>year</th>\n",
       "      <th>Life Ladder</th>\n",
       "      <th>Log GDP per capita</th>\n",
       "      <th>Social support</th>\n",
       "      <th>Healthy life expectancy at birth</th>\n",
       "      <th>Freedom to make life choices</th>\n",
       "      <th>Generosity</th>\n",
       "      <th>Perceptions of corruption</th>\n",
       "      <th>Positive affect</th>\n",
       "      <th>Negative affect</th>\n",
       "    </tr>\n",
       "  </thead>\n",
       "  <tbody>\n",
       "    <tr>\n",
       "      <th>0</th>\n",
       "      <td>Afghanistan</td>\n",
       "      <td>2008</td>\n",
       "      <td>3,724</td>\n",
       "      <td>7,350</td>\n",
       "      <td>0,451</td>\n",
       "      <td>50,500</td>\n",
       "      <td>0,718</td>\n",
       "      <td>0,168</td>\n",
       "      <td>0,882</td>\n",
       "      <td>0,414</td>\n",
       "      <td>0,258</td>\n",
       "    </tr>\n",
       "    <tr>\n",
       "      <th>1</th>\n",
       "      <td>Afghanistan</td>\n",
       "      <td>2009</td>\n",
       "      <td>4,402</td>\n",
       "      <td>7,509</td>\n",
       "      <td>0,552</td>\n",
       "      <td>50,800</td>\n",
       "      <td>0,679</td>\n",
       "      <td>0,191</td>\n",
       "      <td>0,850</td>\n",
       "      <td>0,481</td>\n",
       "      <td>0,237</td>\n",
       "    </tr>\n",
       "    <tr>\n",
       "      <th>2</th>\n",
       "      <td>Afghanistan</td>\n",
       "      <td>2010</td>\n",
       "      <td>4,758</td>\n",
       "      <td>7,614</td>\n",
       "      <td>0,539</td>\n",
       "      <td>51,100</td>\n",
       "      <td>0,600</td>\n",
       "      <td>0,121</td>\n",
       "      <td>0,707</td>\n",
       "      <td>0,517</td>\n",
       "      <td>0,275</td>\n",
       "    </tr>\n",
       "    <tr>\n",
       "      <th>3</th>\n",
       "      <td>Afghanistan</td>\n",
       "      <td>2011</td>\n",
       "      <td>3,832</td>\n",
       "      <td>7,581</td>\n",
       "      <td>0,521</td>\n",
       "      <td>51,400</td>\n",
       "      <td>0,496</td>\n",
       "      <td>0,164</td>\n",
       "      <td>0,731</td>\n",
       "      <td>0,480</td>\n",
       "      <td>0,267</td>\n",
       "    </tr>\n",
       "    <tr>\n",
       "      <th>4</th>\n",
       "      <td>Afghanistan</td>\n",
       "      <td>2012</td>\n",
       "      <td>3,783</td>\n",
       "      <td>7,661</td>\n",
       "      <td>0,521</td>\n",
       "      <td>51,700</td>\n",
       "      <td>0,531</td>\n",
       "      <td>0,238</td>\n",
       "      <td>0,776</td>\n",
       "      <td>0,614</td>\n",
       "      <td>0,268</td>\n",
       "    </tr>\n",
       "    <tr>\n",
       "      <th>...</th>\n",
       "      <td>...</td>\n",
       "      <td>...</td>\n",
       "      <td>...</td>\n",
       "      <td>...</td>\n",
       "      <td>...</td>\n",
       "      <td>...</td>\n",
       "      <td>...</td>\n",
       "      <td>...</td>\n",
       "      <td>...</td>\n",
       "      <td>...</td>\n",
       "      <td>...</td>\n",
       "    </tr>\n",
       "    <tr>\n",
       "      <th>2194</th>\n",
       "      <td>Zimbabwe</td>\n",
       "      <td>2018</td>\n",
       "      <td>3,616</td>\n",
       "      <td>7,783</td>\n",
       "      <td>0,775</td>\n",
       "      <td>52,625</td>\n",
       "      <td>0,763</td>\n",
       "      <td>-0,051</td>\n",
       "      <td>0,844</td>\n",
       "      <td>0,658</td>\n",
       "      <td>0,212</td>\n",
       "    </tr>\n",
       "    <tr>\n",
       "      <th>2195</th>\n",
       "      <td>Zimbabwe</td>\n",
       "      <td>2019</td>\n",
       "      <td>2,694</td>\n",
       "      <td>7,698</td>\n",
       "      <td>0,759</td>\n",
       "      <td>53,100</td>\n",
       "      <td>0,632</td>\n",
       "      <td>-0,047</td>\n",
       "      <td>0,831</td>\n",
       "      <td>0,658</td>\n",
       "      <td>0,235</td>\n",
       "    </tr>\n",
       "    <tr>\n",
       "      <th>2196</th>\n",
       "      <td>Zimbabwe</td>\n",
       "      <td>2020</td>\n",
       "      <td>3,160</td>\n",
       "      <td>7,596</td>\n",
       "      <td>0,717</td>\n",
       "      <td>53,575</td>\n",
       "      <td>0,643</td>\n",
       "      <td>0,006</td>\n",
       "      <td>0,789</td>\n",
       "      <td>0,661</td>\n",
       "      <td>0,346</td>\n",
       "    </tr>\n",
       "    <tr>\n",
       "      <th>2197</th>\n",
       "      <td>Zimbabwe</td>\n",
       "      <td>2021</td>\n",
       "      <td>3,155</td>\n",
       "      <td>7,657</td>\n",
       "      <td>0,685</td>\n",
       "      <td>54,050</td>\n",
       "      <td>0,668</td>\n",
       "      <td>-0,076</td>\n",
       "      <td>0,757</td>\n",
       "      <td>0,610</td>\n",
       "      <td>0,242</td>\n",
       "    </tr>\n",
       "    <tr>\n",
       "      <th>2198</th>\n",
       "      <td>Zimbabwe</td>\n",
       "      <td>2022</td>\n",
       "      <td>3,296</td>\n",
       "      <td>7,670</td>\n",
       "      <td>0,666</td>\n",
       "      <td>54,525</td>\n",
       "      <td>0,652</td>\n",
       "      <td>-0,070</td>\n",
       "      <td>0,753</td>\n",
       "      <td>0,641</td>\n",
       "      <td>0,191</td>\n",
       "    </tr>\n",
       "  </tbody>\n",
       "</table>\n",
       "<p>2199 rows × 11 columns</p>\n",
       "</div>"
      ],
      "text/plain": [
       "     Country name  year Life Ladder Log GDP per capita Social support  \\\n",
       "0     Afghanistan  2008       3,724              7,350          0,451   \n",
       "1     Afghanistan  2009       4,402              7,509          0,552   \n",
       "2     Afghanistan  2010       4,758              7,614          0,539   \n",
       "3     Afghanistan  2011       3,832              7,581          0,521   \n",
       "4     Afghanistan  2012       3,783              7,661          0,521   \n",
       "...           ...   ...         ...                ...            ...   \n",
       "2194     Zimbabwe  2018       3,616              7,783          0,775   \n",
       "2195     Zimbabwe  2019       2,694              7,698          0,759   \n",
       "2196     Zimbabwe  2020       3,160              7,596          0,717   \n",
       "2197     Zimbabwe  2021       3,155              7,657          0,685   \n",
       "2198     Zimbabwe  2022       3,296              7,670          0,666   \n",
       "\n",
       "     Healthy life expectancy at birth Freedom to make life choices Generosity  \\\n",
       "0                              50,500                        0,718      0,168   \n",
       "1                              50,800                        0,679      0,191   \n",
       "2                              51,100                        0,600      0,121   \n",
       "3                              51,400                        0,496      0,164   \n",
       "4                              51,700                        0,531      0,238   \n",
       "...                               ...                          ...        ...   \n",
       "2194                           52,625                        0,763     -0,051   \n",
       "2195                           53,100                        0,632     -0,047   \n",
       "2196                           53,575                        0,643      0,006   \n",
       "2197                           54,050                        0,668     -0,076   \n",
       "2198                           54,525                        0,652     -0,070   \n",
       "\n",
       "     Perceptions of corruption Positive affect Negative affect  \n",
       "0                        0,882           0,414           0,258  \n",
       "1                        0,850           0,481           0,237  \n",
       "2                        0,707           0,517           0,275  \n",
       "3                        0,731           0,480           0,267  \n",
       "4                        0,776           0,614           0,268  \n",
       "...                        ...             ...             ...  \n",
       "2194                     0,844           0,658           0,212  \n",
       "2195                     0,831           0,658           0,235  \n",
       "2196                     0,789           0,661           0,346  \n",
       "2197                     0,757           0,610           0,242  \n",
       "2198                     0,753           0,641           0,191  \n",
       "\n",
       "[2199 rows x 11 columns]"
      ]
     },
     "execution_count": 74,
     "metadata": {},
     "output_type": "execute_result"
    }
   ],
   "source": [
    "df"
   ]
  },
  {
   "cell_type": "code",
   "execution_count": 75,
   "metadata": {
    "vscode": {
     "languageId": "shellscript"
    }
   },
   "outputs": [],
   "source": [
    "df_france = df[df[\"Country name\"] == \"France\"]"
   ]
  },
  {
   "cell_type": "code",
   "execution_count": 127,
   "metadata": {
    "vscode": {
     "languageId": "shellscript"
    }
   },
   "outputs": [],
   "source": [
    "pays = set ([\"France\", \"Germany\", \"Spain\", \"Italia\", \"Luxembourg\", \"Switzerland\", \"Ireland\", \"Belgium\", \"Portugal\"])"
   ]
  },
  {
   "cell_type": "code",
   "execution_count": 139,
   "metadata": {
    "vscode": {
     "languageId": "shellscript"
    }
   },
   "outputs": [],
   "source": [
    "pays = set ([\"Belgium\", \"Portugal\"])"
   ]
  },
  {
   "cell_type": "code",
   "execution_count": 140,
   "metadata": {
    "vscode": {
     "languageId": "shellscript"
    }
   },
   "outputs": [],
   "source": [
    "df_europe = df[df[\"Country name\"].apply(lambda x: x in pays)]"
   ]
  },
  {
   "cell_type": "code",
   "execution_count": 141,
   "metadata": {
    "vscode": {
     "languageId": "shellscript"
    }
   },
   "outputs": [
    {
     "data": {
      "text/html": [
       "<div>\n",
       "<style scoped>\n",
       "    .dataframe tbody tr th:only-of-type {\n",
       "        vertical-align: middle;\n",
       "    }\n",
       "\n",
       "    .dataframe tbody tr th {\n",
       "        vertical-align: top;\n",
       "    }\n",
       "\n",
       "    .dataframe thead th {\n",
       "        text-align: right;\n",
       "    }\n",
       "</style>\n",
       "<table border=\"1\" class=\"dataframe\">\n",
       "  <thead>\n",
       "    <tr style=\"text-align: right;\">\n",
       "      <th></th>\n",
       "      <th>Country name</th>\n",
       "      <th>year</th>\n",
       "      <th>Life Ladder</th>\n",
       "      <th>Log GDP per capita</th>\n",
       "      <th>Social support</th>\n",
       "      <th>Healthy life expectancy at birth</th>\n",
       "      <th>Freedom to make life choices</th>\n",
       "      <th>Generosity</th>\n",
       "      <th>Perceptions of corruption</th>\n",
       "      <th>Positive affect</th>\n",
       "      <th>Negative affect</th>\n",
       "    </tr>\n",
       "  </thead>\n",
       "  <tbody>\n",
       "    <tr>\n",
       "      <th>638</th>\n",
       "      <td>France</td>\n",
       "      <td>2005</td>\n",
       "      <td>7,093</td>\n",
       "      <td>10,637</td>\n",
       "      <td>0,940</td>\n",
       "      <td>70,700</td>\n",
       "      <td>0,895</td>\n",
       "      <td>NaN</td>\n",
       "      <td>0,688</td>\n",
       "      <td>0,681</td>\n",
       "      <td>0,225</td>\n",
       "    </tr>\n",
       "    <tr>\n",
       "      <th>639</th>\n",
       "      <td>France</td>\n",
       "      <td>2006</td>\n",
       "      <td>6,583</td>\n",
       "      <td>10,654</td>\n",
       "      <td>0,944</td>\n",
       "      <td>70,800</td>\n",
       "      <td>0,789</td>\n",
       "      <td>0,122</td>\n",
       "      <td>0,699</td>\n",
       "      <td>0,694</td>\n",
       "      <td>0,289</td>\n",
       "    </tr>\n",
       "    <tr>\n",
       "      <th>640</th>\n",
       "      <td>France</td>\n",
       "      <td>2008</td>\n",
       "      <td>7,008</td>\n",
       "      <td>10,669</td>\n",
       "      <td>0,935</td>\n",
       "      <td>71,000</td>\n",
       "      <td>0,833</td>\n",
       "      <td>-0,035</td>\n",
       "      <td>0,669</td>\n",
       "      <td>0,702</td>\n",
       "      <td>0,281</td>\n",
       "    </tr>\n",
       "    <tr>\n",
       "      <th>641</th>\n",
       "      <td>France</td>\n",
       "      <td>2009</td>\n",
       "      <td>6,283</td>\n",
       "      <td>10,635</td>\n",
       "      <td>0,918</td>\n",
       "      <td>71,100</td>\n",
       "      <td>0,798</td>\n",
       "      <td>-0,086</td>\n",
       "      <td>0,654</td>\n",
       "      <td>0,691</td>\n",
       "      <td>0,303</td>\n",
       "    </tr>\n",
       "    <tr>\n",
       "      <th>642</th>\n",
       "      <td>France</td>\n",
       "      <td>2010</td>\n",
       "      <td>6,798</td>\n",
       "      <td>10,649</td>\n",
       "      <td>0,943</td>\n",
       "      <td>71,200</td>\n",
       "      <td>0,850</td>\n",
       "      <td>-0,107</td>\n",
       "      <td>0,623</td>\n",
       "      <td>0,729</td>\n",
       "      <td>0,261</td>\n",
       "    </tr>\n",
       "    <tr>\n",
       "      <th>643</th>\n",
       "      <td>France</td>\n",
       "      <td>2011</td>\n",
       "      <td>6,959</td>\n",
       "      <td>10,666</td>\n",
       "      <td>0,921</td>\n",
       "      <td>71,300</td>\n",
       "      <td>0,903</td>\n",
       "      <td>-0,106</td>\n",
       "      <td>0,627</td>\n",
       "      <td>0,718</td>\n",
       "      <td>0,281</td>\n",
       "    </tr>\n",
       "    <tr>\n",
       "      <th>644</th>\n",
       "      <td>France</td>\n",
       "      <td>2012</td>\n",
       "      <td>6,649</td>\n",
       "      <td>10,664</td>\n",
       "      <td>0,937</td>\n",
       "      <td>71,400</td>\n",
       "      <td>0,841</td>\n",
       "      <td>-0,153</td>\n",
       "      <td>0,608</td>\n",
       "      <td>0,705</td>\n",
       "      <td>0,253</td>\n",
       "    </tr>\n",
       "    <tr>\n",
       "      <th>645</th>\n",
       "      <td>France</td>\n",
       "      <td>2013</td>\n",
       "      <td>6,667</td>\n",
       "      <td>10,665</td>\n",
       "      <td>0,908</td>\n",
       "      <td>71,500</td>\n",
       "      <td>0,878</td>\n",
       "      <td>-0,128</td>\n",
       "      <td>0,699</td>\n",
       "      <td>0,741</td>\n",
       "      <td>0,205</td>\n",
       "    </tr>\n",
       "    <tr>\n",
       "      <th>646</th>\n",
       "      <td>France</td>\n",
       "      <td>2014</td>\n",
       "      <td>6,467</td>\n",
       "      <td>10,669</td>\n",
       "      <td>0,878</td>\n",
       "      <td>71,600</td>\n",
       "      <td>0,803</td>\n",
       "      <td>-0,122</td>\n",
       "      <td>0,656</td>\n",
       "      <td>0,759</td>\n",
       "      <td>0,216</td>\n",
       "    </tr>\n",
       "    <tr>\n",
       "      <th>647</th>\n",
       "      <td>France</td>\n",
       "      <td>2015</td>\n",
       "      <td>6,358</td>\n",
       "      <td>10,677</td>\n",
       "      <td>0,896</td>\n",
       "      <td>71,700</td>\n",
       "      <td>0,817</td>\n",
       "      <td>-0,143</td>\n",
       "      <td>0,641</td>\n",
       "      <td>0,740</td>\n",
       "      <td>0,215</td>\n",
       "    </tr>\n",
       "    <tr>\n",
       "      <th>648</th>\n",
       "      <td>France</td>\n",
       "      <td>2016</td>\n",
       "      <td>6,475</td>\n",
       "      <td>10,685</td>\n",
       "      <td>0,885</td>\n",
       "      <td>71,800</td>\n",
       "      <td>0,787</td>\n",
       "      <td>-0,095</td>\n",
       "      <td>0,623</td>\n",
       "      <td>0,715</td>\n",
       "      <td>0,270</td>\n",
       "    </tr>\n",
       "    <tr>\n",
       "      <th>649</th>\n",
       "      <td>France</td>\n",
       "      <td>2017</td>\n",
       "      <td>6,635</td>\n",
       "      <td>10,705</td>\n",
       "      <td>0,931</td>\n",
       "      <td>71,900</td>\n",
       "      <td>0,834</td>\n",
       "      <td>-0,127</td>\n",
       "      <td>0,601</td>\n",
       "      <td>0,716</td>\n",
       "      <td>0,242</td>\n",
       "    </tr>\n",
       "    <tr>\n",
       "      <th>650</th>\n",
       "      <td>France</td>\n",
       "      <td>2018</td>\n",
       "      <td>6,666</td>\n",
       "      <td>10,720</td>\n",
       "      <td>0,921</td>\n",
       "      <td>72,000</td>\n",
       "      <td>0,816</td>\n",
       "      <td>-0,142</td>\n",
       "      <td>0,582</td>\n",
       "      <td>0,705</td>\n",
       "      <td>0,282</td>\n",
       "    </tr>\n",
       "    <tr>\n",
       "      <th>651</th>\n",
       "      <td>France</td>\n",
       "      <td>2019</td>\n",
       "      <td>6,690</td>\n",
       "      <td>10,735</td>\n",
       "      <td>0,958</td>\n",
       "      <td>72,100</td>\n",
       "      <td>0,827</td>\n",
       "      <td>-0,137</td>\n",
       "      <td>0,568</td>\n",
       "      <td>0,693</td>\n",
       "      <td>0,250</td>\n",
       "    </tr>\n",
       "    <tr>\n",
       "      <th>652</th>\n",
       "      <td>France</td>\n",
       "      <td>2020</td>\n",
       "      <td>6,714</td>\n",
       "      <td>10,651</td>\n",
       "      <td>0,947</td>\n",
       "      <td>72,200</td>\n",
       "      <td>0,823</td>\n",
       "      <td>-0,174</td>\n",
       "      <td>0,565</td>\n",
       "      <td>0,690</td>\n",
       "      <td>0,231</td>\n",
       "    </tr>\n",
       "    <tr>\n",
       "      <th>653</th>\n",
       "      <td>France</td>\n",
       "      <td>2021</td>\n",
       "      <td>6,656</td>\n",
       "      <td>10,714</td>\n",
       "      <td>0,915</td>\n",
       "      <td>72,300</td>\n",
       "      <td>0,837</td>\n",
       "      <td>-0,102</td>\n",
       "      <td>0,561</td>\n",
       "      <td>0,685</td>\n",
       "      <td>0,268</td>\n",
       "    </tr>\n",
       "    <tr>\n",
       "      <th>654</th>\n",
       "      <td>France</td>\n",
       "      <td>2022</td>\n",
       "      <td>6,614</td>\n",
       "      <td>10,737</td>\n",
       "      <td>0,866</td>\n",
       "      <td>72,400</td>\n",
       "      <td>0,798</td>\n",
       "      <td>-0,025</td>\n",
       "      <td>0,533</td>\n",
       "      <td>0,688</td>\n",
       "      <td>0,249</td>\n",
       "    </tr>\n",
       "  </tbody>\n",
       "</table>\n",
       "</div>"
      ],
      "text/plain": [
       "    Country name  year Life Ladder Log GDP per capita Social support  \\\n",
       "638       France  2005       7,093             10,637          0,940   \n",
       "639       France  2006       6,583             10,654          0,944   \n",
       "640       France  2008       7,008             10,669          0,935   \n",
       "641       France  2009       6,283             10,635          0,918   \n",
       "642       France  2010       6,798             10,649          0,943   \n",
       "643       France  2011       6,959             10,666          0,921   \n",
       "644       France  2012       6,649             10,664          0,937   \n",
       "645       France  2013       6,667             10,665          0,908   \n",
       "646       France  2014       6,467             10,669          0,878   \n",
       "647       France  2015       6,358             10,677          0,896   \n",
       "648       France  2016       6,475             10,685          0,885   \n",
       "649       France  2017       6,635             10,705          0,931   \n",
       "650       France  2018       6,666             10,720          0,921   \n",
       "651       France  2019       6,690             10,735          0,958   \n",
       "652       France  2020       6,714             10,651          0,947   \n",
       "653       France  2021       6,656             10,714          0,915   \n",
       "654       France  2022       6,614             10,737          0,866   \n",
       "\n",
       "    Healthy life expectancy at birth Freedom to make life choices Generosity  \\\n",
       "638                           70,700                        0,895        NaN   \n",
       "639                           70,800                        0,789      0,122   \n",
       "640                           71,000                        0,833     -0,035   \n",
       "641                           71,100                        0,798     -0,086   \n",
       "642                           71,200                        0,850     -0,107   \n",
       "643                           71,300                        0,903     -0,106   \n",
       "644                           71,400                        0,841     -0,153   \n",
       "645                           71,500                        0,878     -0,128   \n",
       "646                           71,600                        0,803     -0,122   \n",
       "647                           71,700                        0,817     -0,143   \n",
       "648                           71,800                        0,787     -0,095   \n",
       "649                           71,900                        0,834     -0,127   \n",
       "650                           72,000                        0,816     -0,142   \n",
       "651                           72,100                        0,827     -0,137   \n",
       "652                           72,200                        0,823     -0,174   \n",
       "653                           72,300                        0,837     -0,102   \n",
       "654                           72,400                        0,798     -0,025   \n",
       "\n",
       "    Perceptions of corruption Positive affect Negative affect  \n",
       "638                     0,688           0,681           0,225  \n",
       "639                     0,699           0,694           0,289  \n",
       "640                     0,669           0,702           0,281  \n",
       "641                     0,654           0,691           0,303  \n",
       "642                     0,623           0,729           0,261  \n",
       "643                     0,627           0,718           0,281  \n",
       "644                     0,608           0,705           0,253  \n",
       "645                     0,699           0,741           0,205  \n",
       "646                     0,656           0,759           0,216  \n",
       "647                     0,641           0,740           0,215  \n",
       "648                     0,623           0,715           0,270  \n",
       "649                     0,601           0,716           0,242  \n",
       "650                     0,582           0,705           0,282  \n",
       "651                     0,568           0,693           0,250  \n",
       "652                     0,565           0,690           0,231  \n",
       "653                     0,561           0,685           0,268  \n",
       "654                     0,533           0,688           0,249  "
      ]
     },
     "execution_count": 141,
     "metadata": {},
     "output_type": "execute_result"
    }
   ],
   "source": [
    "df_france"
   ]
  },
  {
   "cell_type": "code",
   "execution_count": 142,
   "metadata": {
    "vscode": {
     "languageId": "shellscript"
    }
   },
   "outputs": [],
   "source": [
    "import seaborn as sns"
   ]
  },
  {
   "cell_type": "code",
   "execution_count": 143,
   "metadata": {
    "vscode": {
     "languageId": "shellscript"
    }
   },
   "outputs": [
    {
     "data": {
      "text/plain": [
       "<seaborn.axisgrid.FacetGrid at 0x282c80290>"
      ]
     },
     "execution_count": 143,
     "metadata": {},
     "output_type": "execute_result"
    },
    {
     "data": {
      "image/png": "[encoded data removed]",
      "text/plain": [
       "<Figure size 500x500 with 1 Axes>"
      ]
     },
     "metadata": {},
     "output_type": "display_data"
    }
   ],
   "source": [
    "sns.relplot(data=df_france, x='Log GDP per capita', y='Life Ladder')"
   ]
  },
  {
   "cell_type": "code",
   "execution_count": 149,
   "metadata": {
    "vscode": {
     "languageId": "shellscript"
    }
   },
   "outputs": [
    {
     "data": {
      "text/plain": [
       "<Axes: xlabel='year', ylabel='Life Ladder'>"
      ]
     },
     "execution_count": 149,
     "metadata": {},
     "output_type": "execute_result"
    },
    {
     "data": {
      "image/png": "[encoded data removed]",
      "text/plain": [
       "<Figure size 640x480 with 1 Axes>"
      ]
     },
     "metadata": {},
     "output_type": "display_data"
    }
   ],
   "source": [
    "sns.lineplot(data=df_europe, x='year', y='Life Ladder', hue = \"Country name\")"
   ]
  },
  {
   "cell_type": "code",
   "execution_count": 145,
   "metadata": {
    "vscode": {
     "languageId": "shellscript"
    }
   },
   "outputs": [
    {
     "data": {
      "text/plain": [
       "Country name                        object\n",
       "year                                 int64\n",
       "Life Ladder                         object\n",
       "Log GDP per capita                  object\n",
       "Social support                      object\n",
       "Healthy life expectancy at birth    object\n",
       "Freedom to make life choices        object\n",
       "Generosity                          object\n",
       "Perceptions of corruption           object\n",
       "Positive affect                     object\n",
       "Negative affect                     object\n",
       "dtype: object"
      ]
     },
     "execution_count": 145,
     "metadata": {},
     "output_type": "execute_result"
    }
   ],
   "source": [
    "df.dtypes"
   ]
  },
  {
   "cell_type": "code",
   "execution_count": 146,
   "metadata": {
    "vscode": {
     "languageId": "shellscript"
    }
   },
   "outputs": [
    {
     "ename": "KeyError",
     "evalue": "'Country Name'",
     "output_type": "error",
     "traceback": [
      "\u001b[0;31m---------------------------------------------------------------------------\u001b[0m",
      "\u001b[0;31mKeyError\u001b[0m                                  Traceback (most recent call last)",
      "File \u001b[0;32m~/miniconda3/lib/python3.11/site-packages/pandas/core/indexes/base.py:3790\u001b[0m, in \u001b[0;36mIndex.get_loc\u001b[0;34m(self, key)\u001b[0m\n\u001b[1;32m   3789\u001b[0m \u001b[39mtry\u001b[39;00m:\n\u001b[0;32m-> 3790\u001b[0m     \u001b[39mreturn\u001b[39;00m \u001b[39mself\u001b[39;49m\u001b[39m.\u001b[39;49m_engine\u001b[39m.\u001b[39;49mget_loc(casted_key)\n\u001b[1;32m   3791\u001b[0m \u001b[39mexcept\u001b[39;00m \u001b[39mKeyError\u001b[39;00m \u001b[39mas\u001b[39;00m err:\n",
      "File \u001b[0;32mindex.pyx:152\u001b[0m, in \u001b[0;36mpandas._libs.index.IndexEngine.get_loc\u001b[0;34m()\u001b[0m\n",
      "File \u001b[0;32mindex.pyx:181\u001b[0m, in \u001b[0;36mpandas._libs.index.IndexEngine.get_loc\u001b[0;34m()\u001b[0m\n",
      "File \u001b[0;32mpandas/_libs/hashtable_class_helper.pxi:7080\u001b[0m, in \u001b[0;36mpandas._libs.hashtable.PyObjectHashTable.get_item\u001b[0;34m()\u001b[0m\n",
      "File \u001b[0;32mpandas/_libs/hashtable_class_helper.pxi:7088\u001b[0m, in \u001b[0;36mpandas._libs.hashtable.PyObjectHashTable.get_item\u001b[0;34m()\u001b[0m\n",
      "\u001b[0;31mKeyError\u001b[0m: 'Country Name'",
      "\nThe above exception was the direct cause of the following exception:\n",
      "\u001b[0;31mKeyError\u001b[0m                                  Traceback (most recent call last)",
      "Cell \u001b[0;32mIn[146], line 1\u001b[0m\n\u001b[0;32m----> 1\u001b[0m df[\u001b[39m\"\u001b[39m\u001b[39mCountry Name\u001b[39m\u001b[39m\"\u001b[39m] \u001b[39m=\u001b[39m df[\u001b[39m\"\u001b[39;49m\u001b[39mCountry Name\u001b[39;49m\u001b[39m\"\u001b[39;49m]\u001b[39m.\u001b[39mstr\n",
      "File \u001b[0;32m~/miniconda3/lib/python3.11/site-packages/pandas/core/frame.py:3896\u001b[0m, in \u001b[0;36mDataFrame.__getitem__\u001b[0;34m(self, key)\u001b[0m\n\u001b[1;32m   3894\u001b[0m \u001b[39mif\u001b[39;00m \u001b[39mself\u001b[39m\u001b[39m.\u001b[39mcolumns\u001b[39m.\u001b[39mnlevels \u001b[39m>\u001b[39m \u001b[39m1\u001b[39m:\n\u001b[1;32m   3895\u001b[0m     \u001b[39mreturn\u001b[39;00m \u001b[39mself\u001b[39m\u001b[39m.\u001b[39m_getitem_multilevel(key)\n\u001b[0;32m-> 3896\u001b[0m indexer \u001b[39m=\u001b[39m \u001b[39mself\u001b[39;49m\u001b[39m.\u001b[39;49mcolumns\u001b[39m.\u001b[39;49mget_loc(key)\n\u001b[1;32m   3897\u001b[0m \u001b[39mif\u001b[39;00m is_integer(indexer):\n\u001b[1;32m   3898\u001b[0m     indexer \u001b[39m=\u001b[39m [indexer]\n",
      "File \u001b[0;32m~/miniconda3/lib/python3.11/site-packages/pandas/core/indexes/base.py:3797\u001b[0m, in \u001b[0;36mIndex.get_loc\u001b[0;34m(self, key)\u001b[0m\n\u001b[1;32m   3792\u001b[0m     \u001b[39mif\u001b[39;00m \u001b[39misinstance\u001b[39m(casted_key, \u001b[39mslice\u001b[39m) \u001b[39mor\u001b[39;00m (\n\u001b[1;32m   3793\u001b[0m         \u001b[39misinstance\u001b[39m(casted_key, abc\u001b[39m.\u001b[39mIterable)\n\u001b[1;32m   3794\u001b[0m         \u001b[39mand\u001b[39;00m \u001b[39many\u001b[39m(\u001b[39misinstance\u001b[39m(x, \u001b[39mslice\u001b[39m) \u001b[39mfor\u001b[39;00m x \u001b[39min\u001b[39;00m casted_key)\n\u001b[1;32m   3795\u001b[0m     ):\n\u001b[1;32m   3796\u001b[0m         \u001b[39mraise\u001b[39;00m InvalidIndexError(key)\n\u001b[0;32m-> 3797\u001b[0m     \u001b[39mraise\u001b[39;00m \u001b[39mKeyError\u001b[39;00m(key) \u001b[39mfrom\u001b[39;00m \u001b[39merr\u001b[39;00m\n\u001b[1;32m   3798\u001b[0m \u001b[39mexcept\u001b[39;00m \u001b[39mTypeError\u001b[39;00m:\n\u001b[1;32m   3799\u001b[0m     \u001b[39m# If we have a listlike key, _check_indexing_error will raise\u001b[39;00m\n\u001b[1;32m   3800\u001b[0m     \u001b[39m#  InvalidIndexError. Otherwise we fall through and re-raise\u001b[39;00m\n\u001b[1;32m   3801\u001b[0m     \u001b[39m#  the TypeError.\u001b[39;00m\n\u001b[1;32m   3802\u001b[0m     \u001b[39mself\u001b[39m\u001b[39m.\u001b[39m_check_indexing_error(key)\n",
      "\u001b[0;31mKeyError\u001b[0m: 'Country Name'"
     ]
    }
   ],
   "source": [
    "df[\"Country Name\"] = df[\"Country Name\"].str"
   ]
  },
  {
   "cell_type": "code",
   "execution_count": null,
   "metadata": {
    "vscode": {
     "languageId": "shellscript"
    }
   },
   "outputs": [],
   "source": []
  }
 ],
 "metadata": {
  "kernelspec": {
   "display_name": "base",
   "language": "python",
   "name": "python3"
  },
  "language_info": {
   "codemirror_mode": {
    "name": "ipython",
    "version": 3
   },
   "file_extension": ".py",
   "mimetype": "text/x-python",
   "name": "python",
   "nbconvert_exporter": "python",
   "pygments_lexer": "ipython3",
   "version": "3.11.4"
  },
  "orig_nbformat": 4
 },
 "nbformat": 4,
 "nbformat_minor": 2
}
